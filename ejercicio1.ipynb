{
  "nbformat": 4,
  "nbformat_minor": 0,
  "metadata": {
    "colab": {
      "provenance": []
    },
    "kernelspec": {
      "name": "python3",
      "display_name": "Python 3"
    },
    "language_info": {
      "name": "python"
    }
  },
  "cells": [
    {
      "cell_type": "code",
      "source": [
        "def eliminarEspacios(lista):\n",
        "  for i in range(len(lista)):\n",
        "    lista[i]=lista[i].replace(\" \",\"\")\n",
        "\n",
        "def main():\n",
        "  cadena1=input(\"Ingrese la primera cadena de texto: \")\n",
        "  cadena2=input(\"Ingrese la segunda cadena de texto: \")\n",
        "  lista=[cadena1,cadena2]\n",
        "  eliminarEspacios(lista)\n",
        "  print(\"Lista resultante: \", lista)\n",
        "\n",
        "if __name__==\"__main__\":\n",
        "  main()"
      ],
      "metadata": {
        "id": "F5aXBTfF1wQ3"
      },
      "execution_count": null,
      "outputs": []
    }
  ]
}