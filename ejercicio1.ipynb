{
  "nbformat": 4,
  "nbformat_minor": 0,
  "metadata": {
    "colab": {
      "provenance": []
    },
    "kernelspec": {
      "name": "python3",
      "display_name": "Python 3"
    },
    "language_info": {
      "name": "python"
    }
  },
  "cells": [
    {
      "cell_type": "code",
      "source": [
        "def eliminarEspacios(lista):\n",
        "  for i in range(len(lista)):\n",
        "    lista[i]=lista[i].replace(\" \",\"\")\n",
        "\n",
        "def main():\n",
        "  cadena1=input(\"Ingrese la primera cadena de texto: \")\n",
        "  cadena2=input(\"Ingrese la segunda cadena de texto: \")\n",
        "  lista=[cadena1,cadena2]\n",
        "  eliminarEspacios(lista)\n",
        "  print(\"Lista resultante: \", lista)\n",
        "\n",
        "if __name__==\"__main__\":\n",
        "  main()"
      ],
      "metadata": {
        "colab": {
          "base_uri": "https://localhost:8080/"
        },
        "id": "F5aXBTfF1wQ3",
        "outputId": "48d24a76-48c6-4680-f609-de56846cea74"
      },
      "execution_count": 3,
      "outputs": [
        {
          "output_type": "stream",
          "name": "stdout",
          "text": [
            "Ingrese la primera cadena de texto:  asdas djd  djdjs  s\n",
            "Ingrese la segunda cadena de texto: sjdjas djsdjs sds   sjds   sj\n",
            "Lista resultante:  ['asdasdjddjdjss', 'sjdjasdjsdjssdssjdssj']\n"
          ]
        }
      ]
    }
  ]
}