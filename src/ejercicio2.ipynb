{
  "cells": [
    {
      "cell_type": "markdown",
      "metadata": {
        "id": "SnuLYGHpJ0z9"
      },
      "source": [
        "El csv que elegí (csv/titanic.csv) recopila detalles personales acerca de cada una de las personas que iban a bordo del Titanic, datos de su pasaje y estadía, si sobrevivieron o no y si tenían relación con otros pasajeros."
      ]
    },
    {
      "cell_type": "code",
      "execution_count": 26,
      "metadata": {
        "colab": {
          "base_uri": "https://localhost:8080/"
        },
        "id": "i4bzdGsyzlbl",
        "outputId": "4324ee58-60c8-400b-e99d-25725e0d64f6"
      },
      "outputs": [
        {
          "name": "stdout",
          "output_type": "stream",
          "text": [
            "     PassengerId  Survived  Pclass  \\\n",
            "0              1         0       3   \n",
            "1              2         1       1   \n",
            "2              3         1       3   \n",
            "3              4         1       1   \n",
            "4              5         0       3   \n",
            "..           ...       ...     ...   \n",
            "885          886         0       3   \n",
            "886          887         0       2   \n",
            "887          888         1       1   \n",
            "889          890         1       1   \n",
            "890          891         0       3   \n",
            "\n",
            "                                                  Name Sex   Age  SibSp  \\\n",
            "0                              Braund, Mr. Owen Harris   M  22.0      1   \n",
            "1    Cumings, Mrs. John Bradley (Florence Briggs Th...   F  38.0      1   \n",
            "2                               Heikkinen, Miss. Laina   F  26.0      0   \n",
            "3         Futrelle, Mrs. Jacques Heath (Lily May Peel)   F  35.0      1   \n",
            "4                             Allen, Mr. William Henry   M  35.0      0   \n",
            "..                                                 ...  ..   ...    ...   \n",
            "885               Rice, Mrs. William (Margaret Norton)   F  39.0      0   \n",
            "886                              Montvila, Rev. Juozas   M  27.0      0   \n",
            "887                       Graham, Miss. Margaret Edith   F  19.0      0   \n",
            "889                              Behr, Mr. Karl Howell   M  26.0      0   \n",
            "890                                Dooley, Mr. Patrick   M  32.0      0   \n",
            "\n",
            "     Parch            Ticket   Fare Cabin Embarked  \n",
            "0        0         A/5 21171   7.25     -        S  \n",
            "1        0          PC/17599  71.28   C85        C  \n",
            "2        0  STON/O2. 3101282   7.92     -        S  \n",
            "3        0            113803  53.10  C123        S  \n",
            "4        0            373450   8.05     -        S  \n",
            "..     ...               ...    ...   ...      ...  \n",
            "885      5            382652  29.12     -        Q  \n",
            "886      0            211536  13.00     -        S  \n",
            "887      0            112053  30.00   B42        S  \n",
            "889      0            111369  30.00  C148        C  \n",
            "890      0            370376   7.75     -        Q  \n",
            "\n",
            "[714 rows x 12 columns]\n"
          ]
        }
      ],
      "source": [
        "import pandas as pd\n",
        "import numpy as np\n",
        "\n",
        "def arreglar_columnas(columnas):\n",
        "  for i in range(len(columnas)):\n",
        "    columnas[i] = columnas[i].replace(\" \",\"\")\n",
        "  return columnas\n",
        "\n",
        "def resolver_espacios(valor):\n",
        "  valor = str(valor)\n",
        "  if valor[0] == ' ':\n",
        "    valor = valor[1:]\n",
        "  if valor == '' or valor == '-': # agregué la condición valor == '-'\n",
        "    valor = np.nan\n",
        "  if valor == 'nan':\n",
        "    valor = np.nan\n",
        "  return valor\n",
        "\n",
        "def arreglar_sexo(valor): # reemplaza las expresiones 'female' y 'male' por 'F' y 'M' respectivamente\n",
        "  if valor == 'female':\n",
        "    return 'F'\n",
        "  else:\n",
        "    return 'M'\n",
        "\n",
        "def arreglar_ticket(valor): # agrega un '/' entre letras y números para estandarizar los tickets\n",
        "  valor_str = str(valor)\n",
        "  if '/' not in valor_str:\n",
        "    return valor_str.replace(' ','/')\n",
        "  else:\n",
        "    return valor_str\n",
        "\n",
        "def arreglar_tarifa(valor): # redondea el coste de las tarifas a dos dígitos decimales\n",
        "  valor_str = str(valor)\n",
        "  if '.' in valor_str and len(valor_str.split('.')[1]) > 2:\n",
        "    return round(valor,2)\n",
        "  else:\n",
        "    return valor\n",
        "\n",
        "csv = pd.read_csv(\"../csv/titanic.csv\")\n",
        "csvColumnas = list(csv.columns)\n",
        "csv.columns = arreglar_columnas(csvColumnas)\n",
        "\n",
        "csv = csv.fillna('-') # en caso de que un pasajero no tuviera cabina, se rellena el espacio con '-'\n",
        "csv[\"Age\"] = csv[\"Age\"].apply(resolver_espacios)\n",
        "csv.dropna(inplace=True)\n",
        "csv[\"Sex\"] = csv[\"Sex\"].apply(arreglar_sexo)\n",
        "csv[\"Ticket\"] = csv[\"Ticket\"].apply(arreglar_ticket)\n",
        "csv[\"Fare\"] = csv[\"Fare\"].apply(arreglar_tarifa)\n",
        "\n",
        "csv.to_csv('../csv/titanicnuevo.csv')\n",
        "print(csv)"
      ]
    }
  ],
  "metadata": {
    "colab": {
      "provenance": []
    },
    "kernelspec": {
      "display_name": "Python 3",
      "name": "python3"
    },
    "language_info": {
      "name": "python"
    }
  },
  "nbformat": 4,
  "nbformat_minor": 0
}
